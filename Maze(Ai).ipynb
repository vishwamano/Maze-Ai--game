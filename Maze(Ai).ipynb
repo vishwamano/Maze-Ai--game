{
  "nbformat": 4,
  "nbformat_minor": 0,
  "metadata": {
    "colab": {
      "name": "Maze(Ai).ipynb",
      "provenance": []
    },
    "kernelspec": {
      "name": "python3",
      "display_name": "Python 3"
    }
  },
  "cells": [
    {
      "cell_type": "code",
      "metadata": {
        "id": "o3OLNbELcDK7"
      },
      "source": [
        "import numpy as np"
      ],
      "execution_count": 1,
      "outputs": []
    },
    {
      "cell_type": "code",
      "metadata": {
        "id": "wcesZBPIya2b"
      },
      "source": [
        "gamma = 0.75\r\n",
        "alpha = 0.9"
      ],
      "execution_count": 2,
      "outputs": []
    },
    {
      "cell_type": "code",
      "metadata": {
        "id": "HZt_zHY4yme4"
      },
      "source": [
        "location_to_state = {'A': 0,\r\n",
        "                     'B': 1,\r\n",
        "                     'C': 2,\r\n",
        "                     'D': 3,\r\n",
        "                     'E': 4,\r\n",
        "                     'F': 5,\r\n",
        "                     'G': 6,\r\n",
        "                     'H': 7,\r\n",
        "                     'I': 8,\r\n",
        "                     'J': 9,\r\n",
        "                     'K': 10,\r\n",
        "                     'L': 11}"
      ],
      "execution_count": 3,
      "outputs": []
    },
    {
      "cell_type": "code",
      "metadata": {
        "id": "cYAzbnxny6wS"
      },
      "source": [
        "actions = [0,1,2,3,4,5,6,7,8,9,10,11]"
      ],
      "execution_count": 4,
      "outputs": []
    },
    {
      "cell_type": "code",
      "metadata": {
        "id": "6Ga4gHq3zBUV"
      },
      "source": [
        "R = np.array([[0,1,0,0,0,0,0,0,0,0,0,0],\r\n",
        "              [1,0,1,0,0,1,0,0,0,0,0,0],\r\n",
        "              [0,1,0,0,0,0,1,0,0,0,0,0],\r\n",
        "              [0,0,0,0,0,0,0,1,0,0,0,0],\r\n",
        "              [0,0,0,0,0,0,0,0,1,0,0,0],\r\n",
        "              [0,1,0,0,0,0,0,0,0,1,0,0],\r\n",
        "              [0,0,1,0,0,0,1,1,0,0,0,0],\r\n",
        "              [0,0,0,1,0,0,1,0,0,0,0,1],\r\n",
        "              [0,0,0,0,1,0,0,0,0,1,0,0],\r\n",
        "              [0,0,0,0,0,1,0,0,1,0,1,0],\r\n",
        "              [0,0,0,0,0,0,0,0,0,1,0,1],\r\n",
        "              [0,0,0,0,0,0,0,1,0,0,1,0]])"
      ],
      "execution_count": 5,
      "outputs": []
    },
    {
      "cell_type": "code",
      "metadata": {
        "id": "sN2LffMNzL4M"
      },
      "source": [
        "Q = np.array(np.zeros([12,12]))"
      ],
      "execution_count": 6,
      "outputs": []
    },
    {
      "cell_type": "code",
      "metadata": {
        "id": "9Ee2ovqe0VZe"
      },
      "source": [
        "for i in range(1000):\r\n",
        "  current_state = np.random.randint(0,12)          \r\n",
        "  playable_actions = []     \r\n",
        "  for j in range(12):         \r\n",
        "     if R[current_state, j] > 0:            \r\n",
        "       playable_actions.append(j)\r\n",
        "       next_state = np.random.choice(playable_actions)\r\n",
        "       TD = R[current_state, next_state] + gamma * Q[next_state, np.argmax(Q[next_state,])] - Q[current_state, next_state]\r\n",
        "       Q[current_state, next_state] = Q[current_state, next_state] + alpha * TD\r\n"
      ],
      "execution_count": 7,
      "outputs": []
    },
    {
      "cell_type": "code",
      "metadata": {
        "colab": {
          "base_uri": "https://localhost:8080/"
        },
        "id": "cN-fR8N70mhl",
        "outputId": "a7ae94e2-ba83-4682-9974-66a5834e2d27"
      },
      "source": [
        "print(\"Q-values:\") \r\n",
        "print(Q.astype(int))"
      ],
      "execution_count": 8,
      "outputs": [
        {
          "output_type": "stream",
          "text": [
            "Q-values:\n",
            "[[0 3 0 0 0 0 0 0 0 0 0 0]\n",
            " [3 0 3 0 0 3 0 0 0 0 0 0]\n",
            " [0 3 0 0 0 0 3 0 0 0 0 0]\n",
            " [0 0 0 0 0 0 0 3 0 0 0 0]\n",
            " [0 0 0 0 0 0 0 0 3 0 0 0]\n",
            " [0 3 0 0 0 0 0 0 0 3 0 0]\n",
            " [0 0 3 0 0 0 3 3 0 0 0 0]\n",
            " [0 0 0 3 0 0 3 0 0 0 0 3]\n",
            " [0 0 0 0 3 0 0 0 0 3 0 0]\n",
            " [0 0 0 0 0 3 0 0 3 0 3 0]\n",
            " [0 0 0 0 0 0 0 0 0 3 0 3]\n",
            " [0 0 0 0 0 0 0 3 0 0 3 0]]\n"
          ],
          "name": "stdout"
        }
      ]
    },
    {
      "cell_type": "code",
      "metadata": {
        "id": "tGF-TCzN1Fsq"
      },
      "source": [
        "state_to_location = {state: location for location, state in location_to_state.items()}\r\n"
      ],
      "execution_count": 9,
      "outputs": []
    },
    {
      "cell_type": "code",
      "metadata": {
        "colab": {
          "base_uri": "https://localhost:8080/"
        },
        "id": "ZVZM889m3iqU",
        "outputId": "d7f6fceb-83f2-43fe-f13d-e8e56e1d9ffd"
      },
      "source": [
        "print(state_to_location)"
      ],
      "execution_count": 11,
      "outputs": [
        {
          "output_type": "stream",
          "text": [
            "{0: 'A', 1: 'B', 2: 'C', 3: 'D', 4: 'E', 5: 'F', 6: 'G', 7: 'H', 8: 'I', 9: 'J', 10: 'K', 11: 'L'}\n"
          ],
          "name": "stdout"
        }
      ]
    },
    {
      "cell_type": "code",
      "metadata": {
        "id": "sdq4S3mq40BM"
      },
      "source": [
        "def route(starting_location, ending_location):\r\n",
        "    R_new = np.copy(R)\r\n",
        "    ending_state = location_to_state[ending_location]\r\n",
        "    R_new[ending_state, ending_state] = 1000\r\n",
        "    Q = np.array(np.zeros([12,12]))\r\n",
        "    for i in range(1000):\r\n",
        "        current_state = np.random.randint(0,12)\r\n",
        "        playable_actions = []\r\n",
        "        for j in range(12):\r\n",
        "            if R_new[current_state, j] > 0:\r\n",
        "                playable_actions.append(j)\r\n",
        "        next_state = np.random.choice(playable_actions)\r\n",
        "        TD = R_new[current_state, next_state] + gamma * Q[next_state, np.argmax(Q[next_state,])] - Q[current_state, next_state]\r\n",
        "        Q[current_state, next_state] = Q[current_state, next_state] + alpha * TD\r\n",
        "    route = [starting_location]\r\n",
        "    next_location = starting_location\r\n",
        "    while (next_location != ending_location):\r\n",
        "        starting_state = location_to_state[starting_location]\r\n",
        "        next_state = np.argmax(Q[starting_state,])\r\n",
        "        next_location = state_to_location[next_state]\r\n",
        "        route.append(next_location)\r\n",
        "        starting_location = next_location\r\n",
        "    return route"
      ],
      "execution_count": 12,
      "outputs": []
    },
    {
      "cell_type": "code",
      "metadata": {
        "colab": {
          "base_uri": "https://localhost:8080/"
        },
        "id": "qjShk8S1FISS",
        "outputId": "831c67fd-15ec-4adb-b566-edb3eff4ffab"
      },
      "source": [
        "print('Route:')\r\n",
        "route('E' ,'G')"
      ],
      "execution_count": 18,
      "outputs": [
        {
          "output_type": "stream",
          "text": [
            "Route:\n"
          ],
          "name": "stdout"
        },
        {
          "output_type": "execute_result",
          "data": {
            "text/plain": [
              "['E', 'I', 'J', 'K', 'L', 'H', 'G']"
            ]
          },
          "metadata": {
            "tags": []
          },
          "execution_count": 18
        }
      ]
    }
  ]
}